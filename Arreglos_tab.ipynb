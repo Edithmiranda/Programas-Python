{
  "nbformat": 4,
  "nbformat_minor": 0,
  "metadata": {
    "colab": {
      "name": "Arreglos tab.ipynb",
      "provenance": []
    },
    "kernelspec": {
      "name": "python3",
      "display_name": "Python 3"
    },
    "language_info": {
      "name": "python"
    }
  },
  "cells": [
    {
      "cell_type": "code",
      "execution_count": null,
      "metadata": {
        "colab": {
          "base_uri": "https://localhost:8080/"
        },
        "id": "KXnGkUaX61ZH",
        "outputId": "ae2eefe7-0ae3-46e1-d200-07eb6908a358"
      },
      "outputs": [
        {
          "output_type": "stream",
          "name": "stdout",
          "text": [
            "Ingrese la tabla que quiera checar:  5\n",
            "0 x 5 = 0\n",
            "1 x 5 = 5\n",
            "2 x 5 = 10\n",
            "3 x 5 = 15\n",
            "4 x 5 = 20\n",
            "5 x 5 = 25\n",
            "6 x 5 = 30\n",
            "7 x 5 = 35\n",
            "8 x 5 = 40\n",
            "9 x 5 = 45\n",
            "10 x 5 = 50\n"
          ]
        }
      ],
      "source": [
        "mul=[]\n",
        "tab=(int(input('Ingrese la tabla que quiera checar:  ')))\n",
        "for i in range (0,11):\n",
        "  resp=tab*(i*1)\n",
        "  mul.append(resp)\n",
        "  print(i,'x', tab,'=',mul[i])\n",
        "\n"
      ]
    }
  ]
}