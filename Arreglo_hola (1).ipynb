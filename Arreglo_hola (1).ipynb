{
  "nbformat": 4,
  "nbformat_minor": 0,
  "metadata": {
    "colab": {
      "name": "Arreglo_hola.ipynb",
      "provenance": [],
      "collapsed_sections": []
    },
    "kernelspec": {
      "name": "python3",
      "display_name": "Python 3"
    },
    "language_info": {
      "name": "python"
    }
  },
  "cells": [
    {
      "cell_type": "code",
      "execution_count": null,
      "metadata": {
        "id": "vBGM6e9aQm9u",
        "outputId": "a0aa2923-36df-48a5-883c-4335b70cadce",
        "colab": {
          "base_uri": "https://localhost:8080/"
        }
      },
      "outputs": [
        {
          "output_type": "stream",
          "name": "stdout",
          "text": [
            "['O', 'D', 'N', 'U', 'M', 'A', 'L', 'O', 'H']\n"
          ]
        }
      ],
      "source": [
        "var=[]\n",
        "var= ['H','O','L','A','M','U','N','D','O']\n",
        "j=8\n",
        "for i in range (0,4):\n",
        "  variableaux= var[j]\n",
        "  var[j]=var[i]\n",
        "  var[i]= variableaux\n",
        "  j=j-1\n",
        "\n",
        "print(var)"
      ]
    }
  ]
}