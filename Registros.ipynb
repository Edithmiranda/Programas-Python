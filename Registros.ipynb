{
  "nbformat": 4,
  "nbformat_minor": 0,
  "metadata": {
    "colab": {
      "name": "Registros.ipynb",
      "provenance": []
    },
    "kernelspec": {
      "name": "python3",
      "display_name": "Python 3"
    },
    "language_info": {
      "name": "python"
    }
  },
  "cells": [
    {
      "cell_type": "code",
      "execution_count": null,
      "metadata": {
        "colab": {
          "base_uri": "https://localhost:8080/"
        },
        "id": "MIqJ0aIzQ2wU",
        "outputId": "9e9914e8-5902-4981-8710-7983f454fb37"
      },
      "outputs": [
        {
          "output_type": "stream",
          "name": "stdout",
          "text": [
            "Ingresa el número de columna: 4\n",
            "Introduzca No. Control de la persona: 123\n",
            "Introduzca Nombre de la persona: Paul\n",
            "Introduzca Calificacion de la persona: 8\n",
            "Introduzca Genero de la persona: H\n",
            "Introduzca No. Control de la persona: 124\n",
            "Introduzca Nombre de la persona: Raul\n",
            "Introduzca Calificacion de la persona: 9\n",
            "Introduzca Genero de la persona: H\n",
            "Introduzca No. Control de la persona: 125\n",
            "Introduzca Nombre de la persona: Lola\n",
            "Introduzca Calificacion de la persona: 10\n",
            "Introduzca Genero de la persona: M\n",
            "Introduzca No. Control de la persona: Mario\n",
            "Introduzca Nombre de la persona: Mario\n",
            "Introduzca Calificacion de la persona: 9\n",
            "Introduzca Genero de la persona: H\n",
            "[['123', 'Paul', '8', 'H'], ['124', 'Raul', '9', 'H'], ['125', 'Lola', '10', 'M'], ['Mario', 'Mario', '9', 'H']]\n",
            "El promedio de los hombres es 8.666666666666666\n",
            "El promedio de las mujeres es 10.0\n"
          ]
        }
      ],
      "source": [
        "m=4\n",
        "promR=0\n",
        "promTo=0\n",
        "suma=0\n",
        "n=int(input(\"Ingresa el número de columna: \")) \n",
        "#m=int(input(\"Ingresa el número de filas: \")) \n",
        "A=[]\n",
        "valor=\"\"\n",
        "for i in range(m):\n",
        "  A.append([0]*n)\n",
        "\n",
        "for i in range (m):\n",
        "  for j in range (n):\n",
        "\n",
        "    if (j==0):\n",
        "      valor=\"No. Control\" \n",
        "    elif (j==1):\n",
        "      valor=\"Nombre\"\n",
        "    elif (j==2):\n",
        "      valor=\"Calificacion\"\n",
        "    elif (j==3):\n",
        "      valor=\"Genero\"\n",
        "\n",
        "    A[i][j]=input(\"Introduzca \"+valor+\" de la persona\"\": \")\n",
        "print(A)\n",
        "\n",
        "TH=0\n",
        "TM=0\n",
        "CH=0\n",
        "CM=0\n",
        "ProH=0\n",
        "ProM=0\n",
        "\n",
        "for i in range(0,m):\n",
        "  #print(A[i][2]) #Calificaciones\n",
        "  #print(A[i][3]) #Gènero\n",
        "\n",
        "  if(A[i][3]=='H'):\n",
        "    TH=TH+1\n",
        "    CH=CH+int(A[i][2])\n",
        "\n",
        "  if(A[i][3]=='M'):\n",
        "    TM=TM+1\n",
        "    CM=CM+int(A[i][2])\n",
        "\n",
        "ProH=CH/TH\n",
        "ProM=CM/TM\n",
        "\n",
        "print(\"El promedio de los hombres es\", ProH)\n",
        "\n",
        "print(\"El promedio de las mujeres es\", ProM)\n",
        "\n"
      ]
    }
  ]
}